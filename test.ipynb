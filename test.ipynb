{
 "cells": [
  {
   "cell_type": "code",
   "execution_count": 1,
   "metadata": {},
   "outputs": [
    {
     "name": "stdout",
     "output_type": "stream",
     "text": [
      "Piano key frequencies (for equal temperament):\n",
      "Key number\tScientific name\tFrequency (Hz)\n",
      "         1\t             A0\t         27.50\n",
      "         2\t            A#0\t         29.14\n",
      "         3\t             B0\t         30.87\n",
      "         4\t             C1\t         32.70\n",
      "         5\t            C#1\t         34.65\n",
      "         6\t             D1\t         36.71\n",
      "         7\t            D#1\t         38.89\n",
      "         8\t             E1\t         41.20\n",
      "         9\t             F1\t         43.65\n",
      "        10\t            F#1\t         46.25\n",
      "        11\t             G1\t         49.00\n",
      "        12\t            G#1\t         51.91\n",
      "        13\t             A1\t         55.00\n",
      "        14\t            A#1\t         58.27\n",
      "        15\t             B1\t         61.74\n",
      "        16\t             C2\t         65.41\n",
      "        17\t            C#2\t         69.30\n",
      "        18\t             D2\t         73.42\n",
      "        19\t            D#2\t         77.78\n",
      "        20\t             E2\t         82.41\n",
      "        21\t             F2\t         87.31\n",
      "        22\t            F#2\t         92.50\n",
      "        23\t             G2\t         98.00\n",
      "        24\t            G#2\t        103.83\n",
      "        25\t             A2\t        110.00\n",
      "        26\t            A#2\t        116.54\n",
      "        27\t             B2\t        123.47\n",
      "        28\t             C3\t        130.81\n",
      "        29\t            C#3\t        138.59\n",
      "        30\t             D3\t        146.83\n",
      "        31\t            D#3\t        155.56\n",
      "        32\t             E3\t        164.81\n",
      "        33\t             F3\t        174.61\n",
      "        34\t            F#3\t        185.00\n",
      "        35\t             G3\t        196.00\n",
      "        36\t            G#3\t        207.65\n",
      "        37\t             A3\t        220.00\n",
      "        38\t            A#3\t        233.08\n",
      "        39\t             B3\t        246.94\n",
      "        40\t             C4\t        261.63\n",
      "        41\t            C#4\t        277.18\n",
      "        42\t             D4\t        293.66\n",
      "        43\t            D#4\t        311.13\n",
      "        44\t             E4\t        329.63\n",
      "        45\t             F4\t        349.23\n",
      "        46\t            F#4\t        369.99\n",
      "        47\t             G4\t        392.00\n",
      "        48\t            G#4\t        415.30\n",
      "        49\t             A4\t        440.00\n",
      "        50\t            A#4\t        466.16\n",
      "        51\t             B4\t        493.88\n",
      "        52\t             C5\t        523.25\n",
      "        53\t            C#5\t        554.37\n",
      "        54\t             D5\t        587.33\n",
      "        55\t            D#5\t        622.25\n",
      "        56\t             E5\t        659.26\n",
      "        57\t             F5\t        698.46\n",
      "        58\t            F#5\t        739.99\n",
      "        59\t             G5\t        783.99\n",
      "        60\t            G#5\t        830.61\n",
      "        61\t             A5\t        880.00\n",
      "        62\t            A#5\t        932.33\n",
      "        63\t             B5\t        987.77\n",
      "        64\t             C6\t       1046.50\n",
      "        65\t            C#6\t       1108.73\n",
      "        66\t             D6\t       1174.66\n",
      "        67\t            D#6\t       1244.51\n",
      "        68\t             E6\t       1318.51\n",
      "        69\t             F6\t       1396.91\n",
      "        70\t            F#6\t       1479.98\n",
      "        71\t             G6\t       1567.98\n",
      "        72\t            G#6\t       1661.22\n",
      "        73\t             A6\t       1760.00\n",
      "        74\t            A#6\t       1864.66\n",
      "        75\t             B6\t       1975.53\n",
      "        76\t             C7\t       2093.00\n",
      "        77\t            C#7\t       2217.46\n",
      "        78\t             D7\t       2349.32\n",
      "        79\t            D#7\t       2489.02\n",
      "        80\t             E7\t       2637.02\n",
      "        81\t             F7\t       2793.83\n",
      "        82\t            F#7\t       2959.96\n",
      "        83\t             G7\t       3135.96\n",
      "        84\t            G#7\t       3322.44\n",
      "        85\t             A7\t       3520.00\n",
      "        86\t            A#7\t       3729.31\n",
      "        87\t             B7\t       3951.07\n",
      "        88\t             C8\t       4186.01\n"
     ]
    }
   ],
   "source": [
    "import sys\n",
    "sys.path.append('./src/')\n",
    "sys.path.append('./music/')\n",
    "import muser as ms\n",
    "import genetic_algorithm as ga\n",
    "import matplotlib.pyplot as plt"
   ]
  },
  {
   "cell_type": "code",
   "execution_count": 2,
   "metadata": {},
   "outputs": [
    {
     "name": "stdout",
     "output_type": "stream",
     "text": [
      "Generation 1, Best Fitness: 93\n",
      "New pop: 25\n"
     ]
    },
    {
     "ename": "TypeError",
     "evalue": "GeneticAlgorithm.crossover() takes 3 positional arguments but 101 were given",
     "output_type": "error",
     "traceback": [
      "\u001b[1;31m---------------------------------------------------------------------------\u001b[0m",
      "\u001b[1;31mTypeError\u001b[0m                                 Traceback (most recent call last)",
      "Cell \u001b[1;32mIn[2], line 2\u001b[0m\n\u001b[0;32m      1\u001b[0m ga_classical \u001b[38;5;241m=\u001b[39m ga\u001b[38;5;241m.\u001b[39mGeneticAlgorithm(population_size\u001b[38;5;241m=\u001b[39m\u001b[38;5;241m100\u001b[39m, generations\u001b[38;5;241m=\u001b[39m\u001b[38;5;241m50\u001b[39m, mutation_rate\u001b[38;5;241m=\u001b[39m\u001b[38;5;241m0.8\u001b[39m, individual_length\u001b[38;5;241m=\u001b[39m\u001b[38;5;241m64\u001b[39m, elite_size\u001b[38;5;241m=\u001b[39m\u001b[38;5;241m25\u001b[39m)\n\u001b[1;32m----> 2\u001b[0m best_composition, bass_composition, fitnesses \u001b[38;5;241m=\u001b[39m \u001b[43mga_classical\u001b[49m\u001b[38;5;241;43m.\u001b[39;49m\u001b[43mrun\u001b[49m\u001b[43m(\u001b[49m\u001b[43m)\u001b[49m\n\u001b[0;32m      4\u001b[0m muser \u001b[38;5;241m=\u001b[39m ms\u001b[38;5;241m.\u001b[39mMuser()\n\u001b[0;32m      5\u001b[0m muser\u001b[38;5;241m.\u001b[39mgenerate([best_composition, bass_composition])\n",
      "File \u001b[1;32mc:\\Users\\Jaouad\\Documents\\School\\HRO\\Jaar 3\\TINLAB ML\\melody_maker\\src\\genetic_algorithm.py:149\u001b[0m, in \u001b[0;36mGeneticAlgorithm.run\u001b[1;34m(self)\u001b[0m\n\u001b[0;32m    147\u001b[0m \u001b[38;5;28;01mwhile\u001b[39;00m \u001b[38;5;28mlen\u001b[39m(new_population) \u001b[38;5;241m<\u001b[39m \u001b[38;5;28mself\u001b[39m\u001b[38;5;241m.\u001b[39mpopulation_size:\n\u001b[0;32m    148\u001b[0m     parents \u001b[38;5;241m=\u001b[39m \u001b[38;5;28mself\u001b[39m\u001b[38;5;241m.\u001b[39mselection(population, fitnesses)\n\u001b[1;32m--> 149\u001b[0m     offspring \u001b[38;5;241m=\u001b[39m \u001b[38;5;28;43mself\u001b[39;49m\u001b[38;5;241;43m.\u001b[39;49m\u001b[43mcrossover\u001b[49m\u001b[43m(\u001b[49m\u001b[38;5;241;43m*\u001b[39;49m\u001b[43mparents\u001b[49m\u001b[43m)\u001b[49m\n\u001b[0;32m    150\u001b[0m     new_population\u001b[38;5;241m.\u001b[39mextend(\u001b[38;5;28mself\u001b[39m\u001b[38;5;241m.\u001b[39mmutate(child) \u001b[38;5;28;01mfor\u001b[39;00m child \u001b[38;5;129;01min\u001b[39;00m offspring)\n\u001b[0;32m    152\u001b[0m population \u001b[38;5;241m=\u001b[39m new_population[:\u001b[38;5;28mself\u001b[39m\u001b[38;5;241m.\u001b[39mpopulation_size]\n",
      "\u001b[1;31mTypeError\u001b[0m: GeneticAlgorithm.crossover() takes 3 positional arguments but 101 were given"
     ]
    }
   ],
   "source": [
    "ga_classical = ga.GeneticAlgorithm(population_size=100, generations=50, mutation_rate=0.8, individual_length=64)\n",
    "best_composition, bass_composition, fitnesses = ga_classical.run()\n",
    "\n",
    "muser = ms.Muser()\n",
    "muser.generate([best_composition, bass_composition])"
   ]
  },
  {
   "cell_type": "code",
   "execution_count": null,
   "metadata": {},
   "outputs": [],
   "source": [
    "plt.plot(fitnesses)\n",
    "plt.xlabel('Generations')\n",
    "plt.ylabel('Max Fitness')\n",
    "plt.title('Fitness over generations')\n",
    "plt.show()"
   ]
  }
 ],
 "metadata": {
  "kernelspec": {
   "display_name": "Python 3",
   "language": "python",
   "name": "python3"
  },
  "language_info": {
   "codemirror_mode": {
    "name": "ipython",
    "version": 3
   },
   "file_extension": ".py",
   "mimetype": "text/x-python",
   "name": "python",
   "nbconvert_exporter": "python",
   "pygments_lexer": "ipython3",
   "version": "3.12.3"
  }
 },
 "nbformat": 4,
 "nbformat_minor": 2
}
